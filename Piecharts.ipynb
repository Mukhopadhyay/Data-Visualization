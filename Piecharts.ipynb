{
 "cells": [
  {
   "cell_type": "markdown",
   "id": "44e778f0",
   "metadata": {},
   "source": [
    "# Piechart\n",
    "\n",
    "A pie chart (or a circle chart) is a circular statistical graphic which is divided into slices to illustrate numerical proportion. In a pie chart, the arc length of each slice (and consequently its central angle and area) is proportional to the quantity it represents.\n",
    "\n",
    "## Variants and similar charts\n",
    "\n",
    "### Doughnut chart\n",
    "\n",
    "Information on the data as a hole in the center of a doughnut chart\n",
    "A doughnut chart (also spelled donut) is a variant of the pie chart, with a blank center allowing for additional information about the data as a whole to be included. Doughnut charts are similar to pie charts in that their aim is to illustrate proportions.This type of circular graph can support multiple statistics at once and it provides a better data intensity ratio to standard pie charts. It does not have to contain information in the center.\n",
    "\n",
    "<img src=\"https://upload.wikimedia.org/wikipedia/commons/thumb/3/39/Example_of_a_doughnut_chart.png/1024px-Example_of_a_doughnut_chart.png\" width=\"200px\">\n",
    "\n",
    "\n",
    "### Exploded pie chart\n",
    "\n",
    "A chart with one or more sectors separated from the rest of the disk is known as an exploded pie chart. This effect is used to either highlight a sector, or to highlight smaller segments of the chart with small proportions.\n",
    "\n",
    "<img src=\"https://upload.wikimedia.org/wikipedia/commons/thumb/d/da/Pie_chart_EP_election_2004_exploded.png/150px-Pie_chart_EP_election_2004_exploded.png\" width=\"200px\">\n",
    "\n",
    "\n",
    "### Polar area diagram\n",
    "\n",
    "The polar area diagram is similar to a usual pie chart, except sectors have equal angles and differ rather in how far each sector extends from the center of the circle. The polar area diagram is used to plot cyclic phenomena (e.g., counts of deaths by month). For example, if the counts of deaths in each month for a year are to be plotted then there will be 12 sectors (one per month) all with the same angle of 30 degrees each. The radius of each sector would be proportional to the square root of the death rate for the month, so the area of a sector represents the rate of deaths in a month. If the death rate in each month is subdivided by cause of death, it is possible to make multiple comparisons on one diagram, as is seen in the polar area diagram famously developed by [Florence Nightingale](https://en.wikipedia.org/wiki/Florence_Nightingale).\n",
    "\n",
    "<img src=\"https://upload.wikimedia.org/wikipedia/commons/thumb/1/17/Nightingale-mortality.jpg/1024px-Nightingale-mortality.jpg\" width=\"200px\">\n",
    "\n",
    "### Ring chart, sunburst chart, and multilevel pie chart\n",
    "\n",
    "A ring chart, also known as a sunburst chart or a multilevel pie chart, is used to visualize hierarchical data, depicted by concentric circles.\n",
    "\n",
    "<img src=\"https://upload.wikimedia.org/wikipedia/commons/2/2c/Disk_usage_%28Boabab%29.png\" width=\"200px\">\n",
    "\n",
    "### Square chart / Waffle chart\n",
    "\n",
    "Square charts, also called waffle charts, are a form of pie charts that use squares instead of circles to represent percentages. Similar to basic circular pie charts, square pie charts take each percentage out of a total 100%. They are often 10 by 10 grids, where each cell represents 1%. Despite the name, circles, pictograms (such as of people), and other shapes may be used instead of squares. One major benefit to square charts is that smaller percentages, difficult to see on traditional pie charts, can be easily depicted.\n",
    "\n",
    "<img src=\"https://upload.wikimedia.org/wikipedia/commons/8/8e/Square_Pie_Chart_-_Waffle_Chart.jpg\" width=\"200px\">"
   ]
  },
  {
   "cell_type": "code",
   "execution_count": null,
   "id": "de1bee24",
   "metadata": {},
   "outputs": [],
   "source": []
  },
  {
   "cell_type": "code",
   "execution_count": null,
   "id": "ceaf2cb4",
   "metadata": {},
   "outputs": [],
   "source": []
  }
 ],
 "metadata": {
  "kernelspec": {
   "display_name": "Python 3 (ipykernel)",
   "language": "python",
   "name": "python3"
  },
  "language_info": {
   "codemirror_mode": {
    "name": "ipython",
    "version": 3
   },
   "file_extension": ".py",
   "mimetype": "text/x-python",
   "name": "python",
   "nbconvert_exporter": "python",
   "pygments_lexer": "ipython3",
   "version": "3.9.13"
  }
 },
 "nbformat": 4,
 "nbformat_minor": 5
}
